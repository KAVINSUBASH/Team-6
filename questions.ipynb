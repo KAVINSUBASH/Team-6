{
 "cells": [
  {
   "cell_type": "markdown",
   "id": "b3e3125b",
   "metadata": {},
   "source": [
    "### Question 1\n",
    "\n",
    "which of the following is the python file extension?"
   ]
  },
  {
   "cell_type": "markdown",
   "id": "385a13b0",
   "metadata": {},
   "source": [
    "### Question 2\n",
    "\n",
    "Which of the following is a python extension?"
   ]
  },
  {
   "cell_type": "code",
   "execution_count": null,
   "id": "e59493d1",
   "metadata": {},
   "outputs": [],
   "source": [
    "print('Answer: .py')"
   ]
  },
  {
   "cell_type": "code",
   "execution_count": null,
   "id": "2b070ec6",
   "metadata": {},
   "outputs": [
    {
     "ename": "",
     "evalue": "",
     "output_type": "error",
     "traceback": [
      "\u001b[1;31mRunning cells with 'c:\\Users\\kavin\\AppData\\Local\\Programs\\Python\\Python311\\python.exe' requires the ipykernel package.\n",
      "\u001b[1;31mRun the following command to install 'ipykernel' into the Python environment. \n",
      "\u001b[1;31mCommand: 'c:/Users/kavin/AppData/Local/Programs/Python/Python311/python.exe -m pip install ipykernel -U --user --force-reinstall'"
     ]
    }
   ],
   "source": [
    "print('Answer: a).py')"
   ]
  }
 ],
 "metadata": {
  "kernelspec": {
   "display_name": "Python 3",
   "language": "python",
   "name": "python3"
  },
  "language_info": {
   "name": "python",
   "version": "3.11.4"
  }
 },
 "nbformat": 4,
 "nbformat_minor": 5
}
